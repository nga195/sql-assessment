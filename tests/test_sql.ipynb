{
 "cells": [
  {
   "cell_type": "code",
   "execution_count": 2,
   "metadata": {},
   "outputs": [],
   "source": [
    "import pandas as pd\n",
    "import pandasql as ps\n",
    "from datetime import datetime\n",
    "import pymysql\n",
    "import teradatasql\n",
    "import os\n",
    "import logging"
   ]
  },
  {
   "cell_type": "markdown",
   "metadata": {},
   "source": [
    "# QUESTION 1"
   ]
  },
  {
   "cell_type": "code",
   "execution_count": 3,
   "metadata": {},
   "outputs": [],
   "source": [
    "cust_tbl = pd.read_csv(r\"C:\\Users\\knguy14\\Desktop\\Take-home-assignment\\data\\cust_tbl.csv\")\n",
    "acct_tbl = pd.read_csv(r\"C:\\Users\\knguy14\\Desktop\\Take-home-assignment\\data\\acct_tbl.csv\")\n",
    "xref_tbl = pd.read_csv(r\"C:\\Users\\knguy14\\Desktop\\Take-home-assignment\\data\\xref_tbl.csv\")"
   ]
  },
  {
   "cell_type": "code",
   "execution_count": 4,
   "metadata": {},
   "outputs": [
    {
     "name": "stdout",
     "output_type": "stream",
     "text": [
      "  customer_id  customer_age\n",
      "0           A            19\n",
      "1           B            44\n",
      "2           C            32\n",
      "3           D            70\n",
      "   account_id account_open_date\n",
      "0           1         30-Oct-05\n",
      "1           2          5-Apr-90\n",
      "2           3            May-89\n",
      "3           4        Jan 2 2020\n",
      "4           5         17-Jul-99\n",
      "   account_id customer_id\n",
      "0           1           A\n",
      "1           2           A\n",
      "2           4           A\n",
      "3           3           B\n",
      "4           3           C\n",
      "5           4           D\n",
      "6           5           D\n"
     ]
    }
   ],
   "source": [
    "print(cust_tbl)\n",
    "print(acct_tbl)\n",
    "print(xref_tbl)"
   ]
  },
  {
   "cell_type": "code",
   "execution_count": 9,
   "metadata": {},
   "outputs": [
    {
     "name": "stdout",
     "output_type": "stream",
     "text": [
      "   account_id account_open_date\n",
      "0           1        2005-10-30\n",
      "1           2        1990-04-05\n",
      "2           3        1989-05-01\n",
      "3           4        2020-01-02\n",
      "4           5        1999-07-17\n"
     ]
    }
   ],
   "source": [
    "# Convert the account_open_date to a standard datetime format\n",
    "acct_tbl['account_open_date'] = pd.to_datetime(acct_tbl['account_open_date'], errors='coerce')\n",
    "print(acct_tbl)"
   ]
  },
  {
   "cell_type": "code",
   "execution_count": 6,
   "metadata": {},
   "outputs": [
    {
     "data": {
      "text/html": [
       "<div>\n",
       "<style scoped>\n",
       "    .dataframe tbody tr th:only-of-type {\n",
       "        vertical-align: middle;\n",
       "    }\n",
       "\n",
       "    .dataframe tbody tr th {\n",
       "        vertical-align: top;\n",
       "    }\n",
       "\n",
       "    .dataframe thead th {\n",
       "        text-align: right;\n",
       "    }\n",
       "</style>\n",
       "<table border=\"1\" class=\"dataframe\">\n",
       "  <thead>\n",
       "    <tr style=\"text-align: right;\">\n",
       "      <th></th>\n",
       "      <th>customer_id</th>\n",
       "      <th>account_id</th>\n",
       "      <th>account_open_date</th>\n",
       "    </tr>\n",
       "  </thead>\n",
       "  <tbody>\n",
       "    <tr>\n",
       "      <th>0</th>\n",
       "      <td>A</td>\n",
       "      <td>2</td>\n",
       "      <td>1990-04-05</td>\n",
       "    </tr>\n",
       "    <tr>\n",
       "      <th>1</th>\n",
       "      <td>B</td>\n",
       "      <td>3</td>\n",
       "      <td>1989-05-01</td>\n",
       "    </tr>\n",
       "    <tr>\n",
       "      <th>2</th>\n",
       "      <td>C</td>\n",
       "      <td>3</td>\n",
       "      <td>1989-05-01</td>\n",
       "    </tr>\n",
       "    <tr>\n",
       "      <th>3</th>\n",
       "      <td>D</td>\n",
       "      <td>5</td>\n",
       "      <td>1999-07-17</td>\n",
       "    </tr>\n",
       "  </tbody>\n",
       "</table>\n",
       "</div>"
      ],
      "text/plain": [
       "  customer_id  account_id account_open_date\n",
       "0           A           2        1990-04-05\n",
       "1           B           3        1989-05-01\n",
       "2           C           3        1989-05-01\n",
       "3           D           5        1999-07-17"
      ]
     },
     "execution_count": 6,
     "metadata": {},
     "output_type": "execute_result"
    }
   ],
   "source": [
    "# Problem 1: Write a query that gets the earliest account_open_date, along with the account_id, for each customer_id.\n",
    "task1 = '''\n",
    "SELECT\n",
    "    c.customer_id,\n",
    "    x.account_id,\n",
    "    DATE(MIN(a.account_open_date)) AS account_open_date\n",
    "FROM\n",
    "    cust_tbl c\n",
    "JOIN\n",
    "    xref_tbl x ON c.customer_id = x.customer_id\n",
    "JOIN\n",
    "    acct_tbl a ON x.account_id = a.account_id\n",
    "GROUP BY\n",
    "    c.customer_id;\n",
    "\n",
    "'''\n",
    "ps.sqldf(task1, locals())"
   ]
  },
  {
   "cell_type": "markdown",
   "metadata": {},
   "source": [
    "# Question 2"
   ]
  },
  {
   "cell_type": "code",
   "execution_count": 11,
   "metadata": {},
   "outputs": [],
   "source": [
    "# Connection parameters (hidden due to privacy)\n",
    "host = \"tdprod1cop1.ngco.com\"                #Add Host\n",
    "username = \"knguy14\"                         #Add Username\n",
    "password = \"TrangBia123\"                     #Add Password"
   ]
  },
  {
   "cell_type": "markdown",
   "metadata": {},
   "source": [
    "Note: As DATE is a reserved keyword in SQL, i replaced it with transaction_date "
   ]
  },
  {
   "cell_type": "code",
   "execution_count": 12,
   "metadata": {},
   "outputs": [
    {
     "name": "stdout",
     "output_type": "stream",
     "text": [
      "[(1, 'Laptop', 999.99), (2, 'Smartphone', 599.99), (3, 'Tablet', 399.99), (4, 'Headphones', 199.99), (5, 'Smartwatch', 299.99)]\n",
      "[(1, 101, '2024-01-15', 1, 1), (2, 102, '2024-01-20', 2, 2), (3, 103, '2024-02-05', 3, 1), (4, 104, '2024-02-15', 4, 3), (5, 105, '2024-03-10', 5, 1), (6, 106, '2024-03-25', 1, 2), (7, 107, '2024-04-05', 2, 1), (8, 108, '2024-04-15', 3, 2), (9, 109, '2024-05-10', 4, 1), (10, 110, '2024-05-20', 5, 3)]\n"
     ]
    },
    {
     "name": "stderr",
     "output_type": "stream",
     "text": [
      "C:\\Users\\knguy14\\AppData\\Local\\Temp\\ipykernel_105144\\2735413796.py:86: UserWarning: pandas only supports SQLAlchemy connectable (engine/connection) or database string URI or sqlite3 DBAPI2 connection. Other DBAPI2 objects are not tested. Please consider using SQLAlchemy.\n",
      "  df = pd.read_sql(select_query, conn)\n"
     ]
    },
    {
     "name": "stdout",
     "output_type": "stream",
     "text": [
      "   Year  Month  Transactions  Customers    Sales\n",
      "0  2024      1             2          2  2199.97\n",
      "1  2024      2             2          2   999.96\n",
      "2  2024      3             2          2  2299.97\n",
      "3  2024      4             2          2  1399.97\n",
      "4  2024      5             2          2  1099.96\n"
     ]
    }
   ],
   "source": [
    "\n",
    "# Establish connection to Teradata\n",
    "with teradatasql.connect(host=host, user=username, password=password, logmech='LDAP') as conn:\n",
    "    cursor = conn.cursor()\n",
    "    \n",
    "    # Step 1: Create the volatile table for Products\n",
    "    create_products_table_query = \"\"\"\n",
    "    CREATE MULTISET VOLATILE TABLE Products (\n",
    "        id INTEGER NOT NULL PRIMARY KEY,\n",
    "        name VARCHAR(100),\n",
    "        Price FLOAT\n",
    "    ) ON COMMIT PRESERVE ROWS;\n",
    "    \"\"\"\n",
    "    \n",
    "    cursor.execute(create_products_table_query)\n",
    "    \n",
    "     # Step 2: Insert data into Products\n",
    "    Products = [\n",
    "        (1, 'Laptop', 999.99),\n",
    "        (2, 'Smartphone', 599.99),\n",
    "        (3, 'Tablet', 399.99),\n",
    "        (4, 'Headphones', 199.99),\n",
    "        (5, 'Smartwatch', 299.99)\n",
    "    ]\n",
    "\n",
    "    insert_products_query = \"INSERT INTO Products (id, name, Price) VALUES (?, ?, ?)\"\n",
    "    cursor.executemany(insert_products_query, Products)\n",
    "    print(Products)\n",
    "    \n",
    "    # Step 3: Create the volatile table for Transactions\n",
    "    create_transactions_table_query = \"\"\"\n",
    "    CREATE MULTISET VOLATILE TABLE Transactions (\n",
    "        id INTEGER NOT NULL PRIMARY KEY,\n",
    "        user_id INTEGER,\n",
    "        transaction_date DATE,\n",
    "        product_id INTEGER,\n",
    "        quantity INTEGER\n",
    "    ) ON COMMIT PRESERVE ROWS;\n",
    "    \"\"\"\n",
    "    \n",
    "    cursor.execute(create_transactions_table_query)\n",
    "    \n",
    "    # Step 4: Insert sample Transaction data\n",
    "    Transactions = [\n",
    "    (1, 101, '2024-01-15', 1, 1),\n",
    "    (2, 102, '2024-01-20', 2, 2),\n",
    "    (3, 103, '2024-02-05', 3, 1),\n",
    "    (4, 104, '2024-02-15', 4, 3),\n",
    "    (5, 105, '2024-03-10', 5, 1),\n",
    "    (6, 106, '2024-03-25', 1, 2),\n",
    "    (7, 107, '2024-04-05', 2, 1),\n",
    "    (8, 108, '2024-04-15', 3, 2),\n",
    "    (9, 109, '2024-05-10', 4, 1),\n",
    "    (10, 110, '2024-05-20', 5, 3)\n",
    "    ]\n",
    "    \n",
    "    insert_transactions_query = \"\"\"\n",
    "    INSERT INTO Transactions (id, user_id, transaction_date, product_id, quantity) \n",
    "    VALUES (?, ?, CAST(? AS DATE), ?, ?)\n",
    "    \"\"\"\n",
    "    cursor.executemany(insert_transactions_query, Transactions)\n",
    "    print(Transactions)\n",
    "    \n",
    "    \n",
    "    # Query to find the number of distinct transactions, users, and total sales for every month in 2024\n",
    "    select_query = \"\"\"\n",
    "    SELECT \n",
    "        EXTRACT(YEAR FROM t.transaction_date) AS \"Year\",\n",
    "        EXTRACT(MONTH FROM t.transaction_date) AS \"Month\",\n",
    "        COUNT(DISTINCT t.id) AS Transactions,\n",
    "        COUNT(DISTINCT t.user_id) AS Customers,\n",
    "        SUM(p.Price * t.quantity) AS Sales\n",
    "    FROM \n",
    "        Transactions t\n",
    "    JOIN \n",
    "        Products p ON t.product_id = p.id\n",
    "    WHERE \n",
    "        EXTRACT(YEAR FROM t.transaction_date) = 2024\n",
    "    GROUP BY \n",
    "        EXTRACT(YEAR FROM t.transaction_date),\n",
    "        EXTRACT(MONTH FROM t.transaction_date)\n",
    "    ORDER BY \n",
    "        \"Year\", \"Month\";\n",
    "    \"\"\"\n",
    "\n",
    "    # Execute the query and read the results into a DataFrame\n",
    "    df = pd.read_sql(select_query, conn)\n",
    "\n",
    "    # Display the DataFrame\n",
    "    print(df)\n"
   ]
  },
  {
   "cell_type": "code",
   "execution_count": 13,
   "metadata": {},
   "outputs": [
    {
     "name": "stdout",
     "output_type": "stream",
     "text": [
      "   Year  Month  Transactions  Customers    Sales\n",
      "0  2024      1             2          2  2199.97\n",
      "1  2024      2             2          2   999.96\n",
      "2  2024      3             2          2  2299.97\n",
      "3  2024      4             2          2  1399.97\n",
      "4  2024      5             2          2  1099.96\n"
     ]
    }
   ],
   "source": [
    "print(df)"
   ]
  },
  {
   "cell_type": "code",
   "execution_count": null,
   "metadata": {},
   "outputs": [],
   "source": []
  }
 ],
 "metadata": {
  "kernelspec": {
   "display_name": ".venv",
   "language": "python",
   "name": "python3"
  },
  "language_info": {
   "codemirror_mode": {
    "name": "ipython",
    "version": 3
   },
   "file_extension": ".py",
   "mimetype": "text/x-python",
   "name": "python",
   "nbconvert_exporter": "python",
   "pygments_lexer": "ipython3",
   "version": "3.11.4"
  }
 },
 "nbformat": 4,
 "nbformat_minor": 2
}
